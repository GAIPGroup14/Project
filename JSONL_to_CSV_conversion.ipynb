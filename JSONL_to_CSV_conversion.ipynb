{
  "nbformat": 4,
  "nbformat_minor": 0,
  "metadata": {
    "colab": {
      "name": "JSONL to CSV conversion.ipynb",
      "provenance": []
    },
    "kernelspec": {
      "name": "python3",
      "display_name": "Python 3"
    },
    "language_info": {
      "name": "python"
    }
  },
  "cells": [
    {
      "cell_type": "code",
      "execution_count": null,
      "metadata": {
        "id": "rI60BpXLHDKQ"
      },
      "outputs": [],
      "source": [
        "import json\n",
        "import pandas as pd\n",
        "df = pd.DataFrame\n",
        "with open('filename.jsonl', 'r+') as file:\n",
        "  str(file)\n",
        "  arr = '},'.join(file.split('}'))\n",
        "  df = pd.read_json(arr)\n",
        "df"
      ]
    },
    {
      "cell_type": "code",
      "source": [
        ""
      ],
      "metadata": {
        "id": "_6Cnrv9KIPdo"
      },
      "execution_count": null,
      "outputs": []
    }
  ]
}